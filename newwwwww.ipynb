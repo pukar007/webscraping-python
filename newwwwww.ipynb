{
 "cells": [
  {
   "cell_type": "code",
   "execution_count": 1,
   "metadata": {},
   "outputs": [],
   "source": [
    "import pandas as pd\n",
    "import requests\n",
    "from bs4 import BeautifulSoup\n",
    "\n",
    "import datetime\n",
    "from tabula import read_pdf\n",
    "from tabulate import tabulate\n",
    "from urllib.request import urlopen\n",
    "import csv"
   ]
  },
  {
   "cell_type": "code",
   "execution_count": null,
   "metadata": {},
   "outputs": [],
   "source": []
  },
  {
   "cell_type": "code",
   "execution_count": 2,
   "metadata": {},
   "outputs": [],
   "source": [
    "start_urls = \"https://www.nibl.com.np/index.php?option=com_content&view=article&id=152&Itemid=108\""
   ]
  },
  {
   "cell_type": "code",
   "execution_count": 3,
   "metadata": {},
   "outputs": [
    {
     "ename": "IndentationError",
     "evalue": "unexpected indent (<ipython-input-3-1fe6b8e7b20c>, line 2)",
     "output_type": "error",
     "traceback": [
      "\u001b[0;36m  File \u001b[0;32m\"<ipython-input-3-1fe6b8e7b20c>\"\u001b[0;36m, line \u001b[0;32m2\u001b[0m\n\u001b[0;31m    r=requests.get(start_url,headers=headers)\u001b[0m\n\u001b[0m    ^\u001b[0m\n\u001b[0;31mIndentationError\u001b[0m\u001b[0;31m:\u001b[0m unexpected indent\n"
     ]
    }
   ],
   "source": [
    "\n",
    "    r=requests.get(start_url,headers=headers)\n",
    "    soup = BeautifulSoup(r.content,\"html.parser\")\n",
    "    \n",
    "#     print(soup.prettify())\n",
    "    body = soup.find_all (\"tbody\", {\"class\":\"card-body\"})\n",
    "    print(body)\n",
    "    rows = soup.find_all('tr')\n",
    "    print(f'Rows: {rows[:120]}')\n",
    "    \n",
    "    \n",
    "    for row in rows:\n",
    "        row_td = row.find_all('td')\n",
    "        row_th = row.find_all('th')\n",
    "        print(row_td)\n",
    "        print(row_th)\n",
    "        type(row_td)\n",
    "        type(row_th)\n",
    "        str_cells = str(row_td)\n",
    "        cleantext = BeautifulSoup(str_cells, \"lxml\").get_text()\n",
    "        print(cleantext)\n",
    "        \n",
    "        import re\n",
    "\n",
    "        list_rows =[]\n",
    "    \n",
    "        for row in rows:\n",
    "             cells = row.find_all('td')\n",
    "             str_cells = str(cells)\n",
    "             clean = re.compile('<.*?>')\n",
    "             clean2 = (re.sub(clean,'',str_cells))\n",
    "             list_rows.append(clean2)\n",
    "             print(clean2)\n",
    "             type(clean2)\n",
    "                \n",
    "                \n",
    "                \n",
    "        df = pd.DataFrame(list_rows)\n",
    "        df.head(500)\n",
    "        \n",
    "        \n",
    "        "
   ]
  },
  {
   "cell_type": "code",
   "execution_count": null,
   "metadata": {},
   "outputs": [],
   "source": [
    "df = pd.DataFrame(list_rows)\n",
    "df.head(1000)\n"
   ]
  },
  {
   "cell_type": "code",
   "execution_count": null,
   "metadata": {},
   "outputs": [],
   "source": [
    "\n",
    "df1 = df[0].str.split(',', expand=True)\n",
    "df1.head(1010)"
   ]
  },
  {
   "cell_type": "code",
   "execution_count": null,
   "metadata": {},
   "outputs": [],
   "source": [
    "df1[0] = df1[0].str.strip('[')\n",
    "df1[1] = df1[0].str.strip(']')\n",
    "df1[3] = df1[3].str.strip(']')\n",
    "df1.head(1010)"
   ]
  },
  {
   "cell_type": "code",
   "execution_count": null,
   "metadata": {},
   "outputs": [],
   "source": [
    "\n",
    "clean_text(\"content\")\n",
    "\n",
    "df2 = pd.DataFrame(df1)\n",
    "\n",
    "writer =pd.ExcelWriter(\"/home/hendrix/Desktop/latest.xlsx\", engine='xlsxwriter')\n",
    "\n",
    "df2.to_excel(writer,sheet_name='sheet1')\n",
    "\n",
    "writer.save()"
   ]
  },
  {
   "cell_type": "code",
   "execution_count": null,
   "metadata": {},
   "outputs": [],
   "source": []
  },
  {
   "cell_type": "code",
   "execution_count": null,
   "metadata": {},
   "outputs": [],
   "source": []
  }
 ],
 "metadata": {
  "kernelspec": {
   "display_name": "Python 3",
   "language": "python",
   "name": "python3"
  },
  "language_info": {
   "codemirror_mode": {
    "name": "ipython",
    "version": 3
   },
   "file_extension": ".py",
   "mimetype": "text/x-python",
   "name": "python",
   "nbconvert_exporter": "python",
   "pygments_lexer": "ipython3",
   "version": "3.7.1"
  }
 },
 "nbformat": 4,
 "nbformat_minor": 2
}
